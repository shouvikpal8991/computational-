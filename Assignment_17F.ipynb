{
  "nbformat": 4,
  "nbformat_minor": 0,
  "metadata": {
    "colab": {
      "provenance": [],
      "authorship_tag": "ABX9TyPI9oR7pot7OOBA3cC24Ijg",
      "include_colab_link": true
    },
    "kernelspec": {
      "name": "python3",
      "display_name": "Python 3"
    },
    "language_info": {
      "name": "python"
    }
  },
  "cells": [
    {
      "cell_type": "markdown",
      "metadata": {
        "id": "view-in-github",
        "colab_type": "text"
      },
      "source": [
        "<a href=\"https://colab.research.google.com/github/shouvikpal8991/computational-/blob/main/Assignment_17F.ipynb\" target=\"_parent\"><img src=\"https://colab.research.google.com/assets/colab-badge.svg\" alt=\"Open In Colab\"/></a>"
      ]
    },
    {
      "cell_type": "code",
      "execution_count": null,
      "metadata": {
        "colab": {
          "base_uri": "https://localhost:8080/"
        },
        "id": "Vj5BUIxQrpTC",
        "outputId": "6effa310-4e8c-49e1-b391-4375aba1ec2c"
      },
      "outputs": [
        {
          "output_type": "stream",
          "name": "stdout",
          "text": [
            "Orthogonal matrix Q:\n",
            "[[-0.92847669  0.37139068]\n",
            " [ 0.37139068  0.92847669]]\n",
            "\n",
            "Upper triangular matrix R:\n",
            "[[-5.38516481  4.82807879]\n",
            " [ 0.          6.68503217]]\n",
            "Eigenvalues from QR decomposition: [4. 9.]\n",
            "Real Eigenvalues using numpy.linalg.eigh: [4. 9.]\n"
          ]
        }
      ],
      "source": [
        "import numpy as np\n",
        "\n",
        "# Define the matrix A\n",
        "A = np.array([[5, -2],\n",
        "              [-2, 8]])\n",
        "\n",
        "# Compute the QR decomposition of A\n",
        "Q, R = np.linalg.qr(A)\n",
        "\n",
        "# Print the orthogonal matrix Q\n",
        "print(\"Orthogonal matrix Q:\")\n",
        "print(Q)\n",
        "\n",
        "# Print the upper triangular matrix R\n",
        "print(\"\\nUpper triangular matrix R:\")\n",
        "print(R)\n",
        "\n",
        "\n",
        "# Function to compute eigenvalues using QR decomposition\n",
        "def eigenvalues_qr(A, max_iter=30):\n",
        "    Ak = np.copy(A)\n",
        "    n = A.shape[0]\n",
        "    for _ in range(max_iter):\n",
        "        Q, R = np.linalg.qr(Ak)\n",
        "        Ak = R @ Q\n",
        "    eigenvalues = np.diag(Ak)\n",
        "    return eigenvalues\n",
        "\n",
        "# Compute eigenvalues using QR decomposition\n",
        "eigenvalues_qr = np.sort(eigenvalues_qr(A))\n",
        "\n",
        "# Print the eigenvalues obtained from QR decomposition\n",
        "print(\"Eigenvalues from QR decomposition:\", eigenvalues_qr)\n",
        "\n",
        "\n",
        "# Compute the real eigenvalues using numpy.linalg.eigh\n",
        "eigenvalues_eigh = np.linalg.eigh(A)[0]\n",
        "\n",
        "# Print the real eigenvalues obtained using numpy.linalg.eigh\n",
        "print(\"Real Eigenvalues using numpy.linalg.eigh:\", eigenvalues_eigh)\n",
        "\n"
      ]
    }
  ]
}