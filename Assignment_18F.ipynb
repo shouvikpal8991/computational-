{
  "nbformat": 4,
  "nbformat_minor": 0,
  "metadata": {
    "colab": {
      "provenance": [],
      "authorship_tag": "ABX9TyPLJvfTimy2EY8ahhsgKEYp",
      "include_colab_link": true
    },
    "kernelspec": {
      "name": "python3",
      "display_name": "Python 3"
    },
    "language_info": {
      "name": "python"
    }
  },
  "cells": [
    {
      "cell_type": "markdown",
      "metadata": {
        "id": "view-in-github",
        "colab_type": "text"
      },
      "source": [
        "<a href=\"https://colab.research.google.com/github/shouvikpal8991/computational-/blob/main/Assignment_18F.ipynb\" target=\"_parent\"><img src=\"https://colab.research.google.com/assets/colab-badge.svg\" alt=\"Open In Colab\"/></a>"
      ]
    },
    {
      "cell_type": "code",
      "source": [
        "import numpy as np\n",
        "\n",
        "# Define the matrix A\n",
        "A = np.array([[2, -1, 0],\n",
        "              [-1, 2, -1],\n",
        "              [0, -1, 2]])\n",
        "\n",
        "# Define the initial guess for the eigenvector\n",
        "x = np.array([1, 1, 1], dtype=float)  # Explicitly set data type to float\n",
        "\n",
        "# Define the tolerance for convergence\n",
        "tolerance = 1e-3\n",
        "\n",
        "# Initialize iteration counter\n",
        "iterations = 0\n",
        "\n",
        "# Perform the Power Method iteration\n",
        "while True:\n",
        "    # Increment iteration counter\n",
        "    iterations += 1\n",
        "\n",
        "    # Compute the next approximation of the eigenvector\n",
        "    x_new = np.dot(A, x)\n",
        "\n",
        "    # Compute the eigenvalue\n",
        "    eigenvalue = np.dot(x_new, x) / np.dot(x, x)\n",
        "\n",
        "    # Normalize the eigenvector\n",
        "    x_new /= np.linalg.norm(x_new)\n",
        "\n",
        "    # Check for convergence\n",
        "    if np.linalg.norm(x_new - x) < tolerance:\n",
        "        break\n",
        "\n",
        "    # Update the eigenvector for the next iteration\n",
        "    x = x_new\n",
        "\n",
        "# Print the number of iterations required\n",
        "print(\"Number of iterations:\", iterations)\n",
        "\n",
        "# Print the dominant eigenvalue and eigenvector\n",
        "print(\"Dominant Eigenvalue:\", eigenvalue)\n",
        "print(\"Corresponding Eigenvector:\", x_new)\n",
        "\n",
        "\n",
        "# Compute the real eigenvalues of A\n",
        "real_eigenvalues = np.linalg.eigvals(A)\n",
        "\n",
        "# Print the real eigenvalues\n",
        "print(\"Real Eigenvalues:\", real_eigenvalues)\n",
        "\n",
        "# Compute the accuracy between real dominant eigenvalue and extracted dominant eigenvalue\n",
        "accuracy = np.abs(real_eigenvalues[0] - eigenvalue) / np.abs(real_eigenvalues[0])\n",
        "print(\"Accuracy:\", accuracy)\n",
        "\n",
        "\n"
      ],
      "metadata": {
        "colab": {
          "base_uri": "https://localhost:8080/"
        },
        "id": "2hG_kxXZlLLO",
        "outputId": "34b3d75a-8955-4135-f1ca-7b2851fb85ea"
      },
      "execution_count": null,
      "outputs": [
        {
          "output_type": "stream",
          "name": "stdout",
          "text": [
            "Number of iterations: 6\n",
            "Dominant Eigenvalue: 3.4142114384748705\n",
            "Corresponding Eigenvector: [ 0.50007433 -0.70700164  0.50007433]\n",
            "Real Eigenvalues: [3.41421356 2.         0.58578644]\n",
            "Accuracy: 6.220753863373827e-07\n"
          ]
        }
      ]
    }
  ]
}