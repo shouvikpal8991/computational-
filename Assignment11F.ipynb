{
  "nbformat": 4,
  "nbformat_minor": 0,
  "metadata": {
    "colab": {
      "provenance": [],
      "authorship_tag": "ABX9TyN1dWOVSWTYf7kAG1CZ/Nji",
      "include_colab_link": true
    },
    "kernelspec": {
      "name": "python3",
      "display_name": "Python 3"
    },
    "language_info": {
      "name": "python"
    }
  },
  "cells": [
    {
      "cell_type": "markdown",
      "metadata": {
        "id": "view-in-github",
        "colab_type": "text"
      },
      "source": [
        "<a href=\"https://colab.research.google.com/github/shouvikpal8991/computational-/blob/main/Assignment11F.ipynb\" target=\"_parent\"><img src=\"https://colab.research.google.com/assets/colab-badge.svg\" alt=\"Open In Colab\"/></a>"
      ]
    },
    {
      "cell_type": "code",
      "execution_count": null,
      "metadata": {
        "colab": {
          "base_uri": "https://localhost:8080/"
        },
        "id": "ImlOdFlB6AWE",
        "outputId": "144483fa-b677-4f80-c2d3-188af4f59302"
      },
      "outputs": [
        {
          "output_type": "stream",
          "name": "stdout",
          "text": [
            "Solution for system 1: [ 0.03508772 -0.23684211  0.65789474]\n"
          ]
        }
      ],
      "source": [
        "#system 1\n",
        "import numpy as np\n",
        "\n",
        "# Defining the coefficient matrix A and the constant vector b\n",
        "A = np.array([[3, -1, 1],\n",
        "              [3, 6, 2],\n",
        "              [3, 3, 7]])\n",
        "b = np.array([1, 0, 4])\n",
        "\n",
        "# Solving the system of equations\n",
        "solution = np.linalg.solve(A, b)\n",
        "\n",
        "# Printing the solution\n",
        "print(\"Solution for system 1:\", solution)\n"
      ]
    },
    {
      "cell_type": "code",
      "source": [
        "#system 2\n",
        "import numpy as np\n",
        "\n",
        "# Defining the coefficient matrix A and the constant vector b\n",
        "A = np.array([[10, -1, 0],\n",
        "              [-1, 10, -2],\n",
        "              [0, -2, 10]])\n",
        "b = np.array([9, 7, 6])\n",
        "\n",
        "# Solving the system of equations\n",
        "solution = np.linalg.solve(A, b)\n",
        "\n",
        "# Printing the solution\n",
        "print(\"Solution for system 2:\", solution)\n"
      ],
      "metadata": {
        "colab": {
          "base_uri": "https://localhost:8080/"
        },
        "id": "F-WqqTRV6fwR",
        "outputId": "ce3638e0-f5c3-4c8d-c1b3-a02d9e5ff6f7"
      },
      "execution_count": null,
      "outputs": [
        {
          "output_type": "stream",
          "name": "stdout",
          "text": [
            "Solution for system 2: [0.99578947 0.95789474 0.79157895]\n"
          ]
        }
      ]
    },
    {
      "cell_type": "code",
      "source": [
        "#system 3\n",
        "import numpy as np\n",
        "\n",
        "# Defining the coefficient matrix A and the constant vector b\n",
        "A = np.array([[10, 5, 0, 0],\n",
        "              [5, 10, -4, 0],\n",
        "              [0, -4, 8, -1],\n",
        "              [0, 0, -1, 5]])\n",
        "b = np.array([6, 25, -11, -11])\n",
        "\n",
        "# Solving the system of equations\n",
        "solution = np.linalg.solve(A, b)\n",
        "\n",
        "# Printing the solution\n",
        "print(\"Solution for system 3:\", solution)\n"
      ],
      "metadata": {
        "colab": {
          "base_uri": "https://localhost:8080/"
        },
        "id": "FivLpeyL6_Pz",
        "outputId": "b706fce8-ebdd-40ab-a78f-52cc02ed0725"
      },
      "execution_count": null,
      "outputs": [
        {
          "output_type": "stream",
          "name": "stdout",
          "text": [
            "Solution for system 3: [-0.79764706  2.79529412 -0.25882353 -2.25176471]\n"
          ]
        }
      ]
    },
    {
      "cell_type": "code",
      "source": [
        "#system 4\n",
        "import numpy as np\n",
        "\n",
        "# Defining the coefficient matrix A and the constant vector b\n",
        "A = np.array([[4, 1, 1, 0, 1],\n",
        "              [-1, -3, 1, 1, 0],\n",
        "              [2, 1, 5, -1, -1],\n",
        "              [-1, -1, -1, 4, 0],\n",
        "              [0, 2, -1, 1, 4]])\n",
        "b = np.array([6, 6, 6, 6, 6])\n",
        "\n",
        "# Solving the system of equations\n",
        "solution = np.linalg.solve(A, b)\n",
        "\n",
        "# Printing the solution\n",
        "print(\"Solution for system 4:\", solution)\n"
      ],
      "metadata": {
        "colab": {
          "base_uri": "https://localhost:8080/"
        },
        "id": "KMRzxu4i7Ccy",
        "outputId": "b225b249-2d79-43d7-d3d6-0b1a42ab7c79"
      },
      "execution_count": null,
      "outputs": [
        {
          "output_type": "stream",
          "name": "stdout",
          "text": [
            "Solution for system 4: [ 0.78663239 -1.00257069  1.86632391  1.9125964   1.98971722]\n"
          ]
        }
      ]
    }
  ]
}