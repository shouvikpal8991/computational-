{
  "nbformat": 4,
  "nbformat_minor": 0,
  "metadata": {
    "colab": {
      "provenance": [],
      "authorship_tag": "ABX9TyM8ptCGiFXL3FWXiL4It1gT",
      "include_colab_link": true
    },
    "kernelspec": {
      "name": "python3",
      "display_name": "Python 3"
    },
    "language_info": {
      "name": "python"
    }
  },
  "cells": [
    {
      "cell_type": "markdown",
      "metadata": {
        "id": "view-in-github",
        "colab_type": "text"
      },
      "source": [
        "<a href=\"https://colab.research.google.com/github/shouvikpal8991/computational-/blob/main/Assign16_F.ipynb\" target=\"_parent\"><img src=\"https://colab.research.google.com/assets/colab-badge.svg\" alt=\"Open In Colab\"/></a>"
      ]
    },
    {
      "cell_type": "code",
      "source": [
        "import numpy as np\n",
        "\n",
        "given_solution = np.array([7.859713071, 0.422926408, -0.073592239, -0.540643016, 0.010626163])\n",
        "\n",
        "def jacobi_method(A, b, initial_guess,given_solution, tolerance=0.01):\n",
        "    n = len(b)\n",
        "    x = initial_guess.copy()\n",
        "\n",
        "    for iteration in range(1, 100):\n",
        "        x_old= x.copy()\n",
        "        for i in range(n):\n",
        "            sigma = A[i, :].dot(x_old) - A[i, i] * x_old[i]\n",
        "            x[i] = (b[i] - sigma) / A[i, i]\n",
        "\n",
        "        # Checking convergence condition\n",
        "        if np.linalg.norm(x- given_solution) < tolerance:\n",
        "            print(\"Convergence achieved at iteration:\", iteration)\n",
        "            break\n",
        "\n",
        "        #print(\"Iteration:\", iteration)\n",
        "        #print(\"Solution:\", x)\n",
        "        #print()\n",
        "\n",
        "    return x\n",
        "\n",
        "# Given data\n",
        "A = np.array([[0.2, 0.1, 1, 1, 0],\n",
        "              [0.1, 4, -1, 1, -1],\n",
        "              [1, -1, 60, 0, -2],\n",
        "              [1, 1, 0, 8, 4],\n",
        "              [0, -1, -2, 4, 700]])\n",
        "b = np.array([1, 2, 3, 4, 5])\n",
        "initial_guess = np.zeros(len(b))\n",
        "\n",
        "# Performing iterations of the Jacobi method until convergence\n",
        "solution = jacobi_method(A, b, initial_guess, given_solution)\n",
        "print(\"Final solution for jacobi method:\", solution)\n"
      ],
      "metadata": {
        "id": "MaPV3o6TBZGN",
        "colab": {
          "base_uri": "https://localhost:8080/"
        },
        "outputId": "86631825-412c-443b-f429-f93655ef18f3"
      },
      "execution_count": null,
      "outputs": [
        {
          "output_type": "stream",
          "name": "stdout",
          "text": [
            "Convergence achieved at iteration: 39\n",
            "Final solution for jacobi method: [ 7.86798447  0.4239069  -0.0731638  -0.5370925   0.01063184]\n"
          ]
        }
      ]
    },
    {
      "cell_type": "code",
      "source": [
        "import numpy as np\n",
        "\n",
        "given_solution = np.array([7.859713071, 0.422926408, -0.073592239, -0.540643016, 0.010626163])\n",
        "\n",
        "def gauss_seidel_method(A, b, initial_guess,given_solution, tolerance=0.01):\n",
        "    n = len(b)\n",
        "    x = initial_guess.copy()\n",
        "\n",
        "    for iteration in range(1, 100):\n",
        "        x_old = x.copy()\n",
        "        for i in range(n):\n",
        "            sigma = A[i, :i].dot(x[:i]) + A[i, i+1:].dot(x_old[i+1:])\n",
        "            x[i] = (b[i] - sigma) / A[i, i]\n",
        "\n",
        "        # Checking convergence condition\n",
        "        if np.linalg.norm(given_solution - x) < tolerance:\n",
        "            print(\"Convergence achieved at iteration:\", iteration)\n",
        "            break\n",
        "\n",
        "        #print(\"Iteration:\", iteration)\n",
        "        #print(\"Solution:\", x)\n",
        "        #print()\n",
        "\n",
        "    return x\n",
        "\n",
        "# Given data\n",
        "A = np.array([[0.2, 0.1, 1, 1, 0],\n",
        "              [0.1, 4, -1, 1, -1],\n",
        "              [1, -1, 60, 0, -2],\n",
        "              [1, 1, 0, 8, 4],\n",
        "              [0, -1, -2, 4, 700]])\n",
        "b = np.array([1, 2, 3, 4, 5])\n",
        "initial_guess = np.zeros(len(b))\n",
        "\n",
        "# Performing iterations of the Gauss-Seidel method until convergence\n",
        "solution = gauss_seidel_method(A, b, initial_guess,given_solution)\n",
        "print(\"Final solution gauss seidal method:\", solution)\n"
      ],
      "metadata": {
        "colab": {
          "base_uri": "https://localhost:8080/"
        },
        "outputId": "d337820b-d565-42bb-a5db-d27c2601119f",
        "id": "PsLzh6chVjB2"
      },
      "execution_count": null,
      "outputs": [
        {
          "output_type": "stream",
          "name": "stdout",
          "text": [
            "Convergence achieved at iteration: 18\n",
            "Final solution gauss seidal method: [ 7.85091478  0.42280131 -0.07344797 -0.53952326  0.01062   ]\n"
          ]
        }
      ]
    },
    {
      "cell_type": "code",
      "source": [
        "import numpy as np\n",
        "\n",
        "given_solution = np.array([7.859713071, 0.422926408, -0.073592239, -0.540643016, 0.010626163])\n",
        "\n",
        "def relaxation_method(A, b, initial_guess,given_solution, w=1.25, tolerance=0.01):\n",
        "    n = len(b)\n",
        "    x = initial_guess.copy()\n",
        "\n",
        "    for iteration in range(1, 100):\n",
        "        x_old = x.copy()\n",
        "        for i in range(n):\n",
        "            sigma = A[i, :i].dot(x[:i]) + A[i, i+1:].dot(x_old[i+1:])\n",
        "            x[i] = (1 - w) * x_old[i] + (w / A[i, i]) * (b[i] - sigma)\n",
        "\n",
        "        # Checking convergence condition\n",
        "        if np.linalg.norm(given_solution - x) < tolerance:\n",
        "            print(\"Convergence achieved at iteration:\", iteration)\n",
        "            break\n",
        "\n",
        "        #print(\"Iteration:\", iteration)\n",
        "        #print(\"Solution:\", x)\n",
        "        #print()\n",
        "\n",
        "    return x\n",
        "\n",
        "# Given data\n",
        "A = np.array([[0.2, 0.1, 1, 1, 0],\n",
        "              [0.1, 4, -1, 1, -1],\n",
        "              [1, -1, 60, 0, -2],\n",
        "              [1, 1, 0, 8, 4],\n",
        "              [0, -1, -2, 4, 700]])\n",
        "b = np.array([1, 2, 3, 4, 5])\n",
        "initial_guess = np.zeros(len(b))\n",
        "\n",
        "# Performing iterations of the relaxation method until convergence\n",
        "solution = relaxation_method(A, b, initial_guess, given_solution,w=1.25)\n",
        "print(\"Final solution for relaxation method:\", solution)\n"
      ],
      "metadata": {
        "id": "BC8-0jzKbrmX",
        "colab": {
          "base_uri": "https://localhost:8080/"
        },
        "outputId": "9a07dfd1-89f4-4eaf-dd0b-9831d5059181"
      },
      "execution_count": null,
      "outputs": [
        {
          "output_type": "stream",
          "name": "stdout",
          "text": [
            "Convergence achieved at iteration: 7\n",
            "Final solution for relaxation method: [ 7.85152701  0.42277371 -0.07348303 -0.53978369  0.01062286]\n"
          ]
        }
      ]
    },
    {
      "cell_type": "code",
      "source": [
        "import numpy as np\n",
        "\n",
        "given_solution = np.array([7.859713071, 0.422926408, -0.073592239, -0.540643016, 0.010626163])\n",
        "\n",
        "def conjugate_gradient(A, b, initial_guess,given_solution, tolerance=0.01):\n",
        "    n = len(b)\n",
        "    x = initial_guess.copy()\n",
        "    r = b - A.dot(x)  # Initial residual\n",
        "    p = r.copy()  # Initial search direction\n",
        "\n",
        "    for iteration in range(1, 10000):\n",
        "        Ap = A.dot(p)\n",
        "        alpha = np.sum(r ** 2) / np.sum(p * Ap)\n",
        "        x_new = x + alpha * p\n",
        "        r_new = r - alpha * Ap\n",
        "        beta = np.sum(r_new ** 2) / np.sum(r ** 2)\n",
        "        p_new =  r_new + beta * p\n",
        "\n",
        "\n",
        "        x = x_new\n",
        "        r = r_new\n",
        "        p =  p_new\n",
        "\n",
        "         # Checking convergence condition\n",
        "        if  np.linalg.norm(given_solution - x) < tolerance:\n",
        "          print(\"Convergence achieved at iteration:\", iteration)\n",
        "          break\n",
        "\n",
        "        #print(\"Iteration:\", iteration)\n",
        "        #print(\"Solution:\", x)\n",
        "        #print()\n",
        "\n",
        "    return x\n",
        "\n",
        "# Given data\n",
        "A = np.array([[0.2, 0.1, 1, 1, 0],\n",
        "              [0.1, 4, -1, 1, -1],\n",
        "              [1, -1, 60, 0, -2],\n",
        "              [1, 1, 0, 8, 4],\n",
        "              [0, -1, -2, 4, 700]])\n",
        "b = np.array([1, 2, 3, 4, 5])\n",
        "initial_guess = np.zeros(len(b))\n",
        "\n",
        "\n",
        "# Performing iterations of the Conjugate Gradient method until convergence\n",
        "solution = conjugate_gradient(A, b, initial_guess,given_solution)\n",
        "print(\"Final solution for conjugate gradient method:\", solution)\n"
      ],
      "metadata": {
        "id": "0HA_tP-0cBjo",
        "colab": {
          "base_uri": "https://localhost:8080/"
        },
        "outputId": "e91dac09-0698-4690-a385-07dfb9552b41"
      },
      "execution_count": null,
      "outputs": [
        {
          "output_type": "stream",
          "name": "stdout",
          "text": [
            "Convergence achieved at iteration: 5\n",
            "Final solution for conjugate gradient method: [ 7.85971308  0.42292641 -0.07359224 -0.54064302  0.01062616]\n"
          ]
        }
      ]
    }
  ]
}